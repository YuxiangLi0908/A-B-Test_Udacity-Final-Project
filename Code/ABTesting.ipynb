{
 "cells": [
  {
   "cell_type": "code",
   "execution_count": 1,
   "metadata": {},
   "outputs": [],
   "source": [
    "import pandas as pd\n",
    "import numpy as np\n",
    "from scipy import stats\n",
    "from scipy.special import comb\n",
    "import matplotlib.pyplot as plt"
   ]
  },
  {
   "cell_type": "code",
   "execution_count": 2,
   "metadata": {
    "scrolled": true
   },
   "outputs": [
    {
     "data": {
      "text/html": [
       "<div>\n",
       "<style scoped>\n",
       "    .dataframe tbody tr th:only-of-type {\n",
       "        vertical-align: middle;\n",
       "    }\n",
       "\n",
       "    .dataframe tbody tr th {\n",
       "        vertical-align: top;\n",
       "    }\n",
       "\n",
       "    .dataframe thead th {\n",
       "        text-align: right;\n",
       "    }\n",
       "</style>\n",
       "<table border=\"1\" class=\"dataframe\">\n",
       "  <thead>\n",
       "    <tr style=\"text-align: right;\">\n",
       "      <th></th>\n",
       "      <th>metrics</th>\n",
       "      <th>value</th>\n",
       "    </tr>\n",
       "  </thead>\n",
       "  <tbody>\n",
       "    <tr>\n",
       "      <th>0</th>\n",
       "      <td>Unique cookies to view page per day:</td>\n",
       "      <td>40000.000000</td>\n",
       "    </tr>\n",
       "    <tr>\n",
       "      <th>1</th>\n",
       "      <td>Unique cookies to click \"Start free trial\" per...</td>\n",
       "      <td>3200.000000</td>\n",
       "    </tr>\n",
       "    <tr>\n",
       "      <th>2</th>\n",
       "      <td>Enrollments per day:</td>\n",
       "      <td>660.000000</td>\n",
       "    </tr>\n",
       "    <tr>\n",
       "      <th>3</th>\n",
       "      <td>Click-through-probability on \"Start free trial\":</td>\n",
       "      <td>0.080000</td>\n",
       "    </tr>\n",
       "    <tr>\n",
       "      <th>4</th>\n",
       "      <td>Probability of enrolling, given click:</td>\n",
       "      <td>0.206250</td>\n",
       "    </tr>\n",
       "    <tr>\n",
       "      <th>5</th>\n",
       "      <td>Probability of payment, given enroll:</td>\n",
       "      <td>0.530000</td>\n",
       "    </tr>\n",
       "    <tr>\n",
       "      <th>6</th>\n",
       "      <td>Probability of payment, given click</td>\n",
       "      <td>0.109313</td>\n",
       "    </tr>\n",
       "  </tbody>\n",
       "</table>\n",
       "</div>"
      ],
      "text/plain": [
       "                                             metrics         value\n",
       "0               Unique cookies to view page per day:  40000.000000\n",
       "1  Unique cookies to click \"Start free trial\" per...   3200.000000\n",
       "2                               Enrollments per day:    660.000000\n",
       "3   Click-through-probability on \"Start free trial\":      0.080000\n",
       "4             Probability of enrolling, given click:      0.206250\n",
       "5              Probability of payment, given enroll:      0.530000\n",
       "6                Probability of payment, given click      0.109313"
      ]
     },
     "execution_count": 2,
     "metadata": {},
     "output_type": "execute_result"
    }
   ],
   "source": [
    "df = pd.read_excel('final-project-baseline-values.xlsx', names=['metrics', 'value'], header=None)\n",
    "df"
   ]
  },
  {
   "cell_type": "code",
   "execution_count": 3,
   "metadata": {},
   "outputs": [],
   "source": [
    "# Calculate standard deviation of evaluation metrics given a sample of 5000 cookies\n",
    "baseline = {'cookies': 5000,\n",
    "            'click': 400,\n",
    "            'enrollment': 82.5,\n",
    "            'CTP': 0.08,\n",
    "            'GC': 0.20625,\n",
    "            'R': 0.53,\n",
    "            'NC': 0.109313}"
   ]
  },
  {
   "cell_type": "code",
   "execution_count": 4,
   "metadata": {},
   "outputs": [],
   "source": [
    "std_GC = np.sqrt(baseline['GC']*(1-baseline['GC'])/baseline['click'])\n",
    "std_R = np.sqrt(baseline['R']*(1-baseline['R'])/baseline['enrollment'])\n",
    "std_NC = np.sqrt(baseline['NC']*(1-baseline['NC'])/baseline['click'])"
   ]
  },
  {
   "cell_type": "code",
   "execution_count": 5,
   "metadata": {},
   "outputs": [
    {
     "data": {
      "text/plain": [
       "[0.020230604137049392, 0.05494901217850908, 0.015601575884425905]"
      ]
     },
     "execution_count": 5,
     "metadata": {},
     "output_type": "execute_result"
    }
   ],
   "source": [
    "[std_GC, std_R, std_NC]"
   ]
  },
  {
   "cell_type": "code",
   "execution_count": 6,
   "metadata": {},
   "outputs": [
    {
     "data": {
      "text/html": [
       "<div>\n",
       "<style scoped>\n",
       "    .dataframe tbody tr th:only-of-type {\n",
       "        vertical-align: middle;\n",
       "    }\n",
       "\n",
       "    .dataframe tbody tr th {\n",
       "        vertical-align: top;\n",
       "    }\n",
       "\n",
       "    .dataframe thead th {\n",
       "        text-align: right;\n",
       "    }\n",
       "</style>\n",
       "<table border=\"1\" class=\"dataframe\">\n",
       "  <thead>\n",
       "    <tr style=\"text-align: right;\">\n",
       "      <th></th>\n",
       "      <th>Sample_size</th>\n",
       "      <th>Number_of_cookies</th>\n",
       "    </tr>\n",
       "  </thead>\n",
       "  <tbody>\n",
       "    <tr>\n",
       "      <th>GC</th>\n",
       "      <td>25835</td>\n",
       "      <td>645875</td>\n",
       "    </tr>\n",
       "    <tr>\n",
       "      <th>R</th>\n",
       "      <td>39115</td>\n",
       "      <td>4741212</td>\n",
       "    </tr>\n",
       "    <tr>\n",
       "      <th>NC</th>\n",
       "      <td>27413</td>\n",
       "      <td>685325</td>\n",
       "    </tr>\n",
       "  </tbody>\n",
       "</table>\n",
       "</div>"
      ],
      "text/plain": [
       "    Sample_size  Number_of_cookies\n",
       "GC        25835             645875\n",
       "R         39115            4741212\n",
       "NC        27413             685325"
      ]
     },
     "execution_count": 6,
     "metadata": {},
     "output_type": "execute_result"
    }
   ],
   "source": [
    "# Sample size using online calculator\n",
    "sample_size_calculator = {'GC': [25835, round(25835/baseline['CTP']*2)],\n",
    "                          'R': [39115, round(39115/baseline['GC']/baseline['CTP']*2)],\n",
    "                          'NC': [27413, round(27413/baseline['CTP']*2)]}\n",
    "\n",
    "sample_size_calculator = pd.DataFrame.from_dict(sample_size_calculator, orient='index', columns=['Sample_size', 'Number_of_cookies'])\n",
    "sample_size_calculator"
   ]
  },
  {
   "cell_type": "code",
   "execution_count": 7,
   "metadata": {},
   "outputs": [],
   "source": [
    "# Sanity Check\n",
    "ctrl = pd.read_excel('Final+Project+Results.xlsx', 0, index_col=0)\n",
    "exp = pd.read_excel('Final+Project+Results.xlsx', 1, index_col=0)"
   ]
  },
  {
   "cell_type": "code",
   "execution_count": 8,
   "metadata": {},
   "outputs": [
    {
     "data": {
      "text/plain": [
       "0.14392482085331415"
      ]
     },
     "execution_count": 8,
     "metadata": {},
     "output_type": "execute_result"
    }
   ],
   "source": [
    "# Pageviews\n",
    "pageviews_ctrl = ctrl.Pageviews.sum()\n",
    "pageviews_exp = exp.Pageviews.sum()\n",
    "pageviews_total = pageviews_ctrl + pageviews_exp\n",
    "stats_pageviews = (pageviews_ctrl/pageviews_total - 0.5)/np.sqrt((0.5**2/pageviews_total))\n",
    "p_pageviews = 1-stats.norm.cdf(stats_pageviews) # stats_pageviews > 0\n",
    "p_pageviews"
   ]
  },
  {
   "cell_type": "code",
   "execution_count": 9,
   "metadata": {},
   "outputs": [
    {
     "data": {
      "text/plain": [
       "0.41193385199077437"
      ]
     },
     "execution_count": 9,
     "metadata": {},
     "output_type": "execute_result"
    }
   ],
   "source": [
    "# Clicks\n",
    "click_ctrl = ctrl.Clicks.sum()\n",
    "click_exp = exp.Clicks.sum()\n",
    "click_total = click_ctrl + click_exp\n",
    "stats_click = (click_ctrl/click_total - 0.5)/np.sqrt((0.5**2/click_total))\n",
    "p_click = 1-stats.norm.cdf(stats_click) # stats_click > 0\n",
    "p_click"
   ]
  },
  {
   "cell_type": "code",
   "execution_count": 10,
   "metadata": {},
   "outputs": [
    {
     "data": {
      "text/plain": [
       "0.4658679762236956"
      ]
     },
     "execution_count": 10,
     "metadata": {},
     "output_type": "execute_result"
    }
   ],
   "source": [
    "# Click Through Probability\n",
    "CTP_ctrl = click_ctrl/pageviews_ctrl\n",
    "CTP_exp = click_exp/pageviews_exp\n",
    "CTP_pool = click_total/pageviews_total\n",
    "CTP_std = np.sqrt(CTP_pool*(1-CTP_pool)*(1/pageviews_ctrl + 1/pageviews_exp))\n",
    "stats_CTP = (CTP_ctrl-CTP_exp)/CTP_std\n",
    "p_CTP = stats.norm.cdf(stats_CTP) # stats_CTP < 0\n",
    "p_CTP"
   ]
  },
  {
   "cell_type": "code",
   "execution_count": 11,
   "metadata": {},
   "outputs": [
    {
     "data": {
      "text/plain": [
       "1.2892005168602965e-06"
      ]
     },
     "execution_count": 11,
     "metadata": {},
     "output_type": "execute_result"
    }
   ],
   "source": [
    "# Effect Size Tests\n",
    "# Gross Conversion\n",
    "GC_clicks_ctrl = ctrl.loc[ctrl.Enrollments.notnull(), 'Clicks'].sum()\n",
    "GC_clicks_exp = exp.loc[exp.Enrollments.notnull(), 'Clicks'].sum()\n",
    "GC_ctrl = ctrl.Enrollments.sum()/GC_clicks_ctrl\n",
    "GC_exp = exp.Enrollments.sum()/GC_clicks_exp\n",
    "GC_diff = GC_exp-GC_ctrl\n",
    "GC_pooled = (ctrl.Enrollments.sum()+exp.Enrollments.sum())/(GC_clicks_ctrl+GC_clicks_exp)\n",
    "GC_std = np.sqrt(GC_pooled*(1-GC_pooled)*(1/GC_clicks_ctrl+1/GC_clicks_exp))\n",
    "stats_GC = GC_diff/GC_std\n",
    "p_GC = stats.norm.cdf(stats_GC) # stats_GC < 0\n",
    "p_GC"
   ]
  },
  {
   "cell_type": "code",
   "execution_count": 12,
   "metadata": {},
   "outputs": [
    {
     "data": {
      "text/plain": [
       "[-0.02912320088750467, -0.011986548273218463]"
      ]
     },
     "execution_count": 12,
     "metadata": {},
     "output_type": "execute_result"
    }
   ],
   "source": [
    "CI_GC = [GC_diff-stats.norm.ppf(1-0.05/2)*GC_std, GC_diff+stats.norm.ppf(1-0.05/2)*GC_std]\n",
    "CI_GC"
   ]
  },
  {
   "cell_type": "code",
   "execution_count": 13,
   "metadata": {},
   "outputs": [
    {
     "data": {
      "text/plain": [
       "0.07792034131075103"
      ]
     },
     "execution_count": 13,
     "metadata": {},
     "output_type": "execute_result"
    }
   ],
   "source": [
    "# Net Conversion\n",
    "NC_ctrl = ctrl.Payments.sum()/GC_clicks_ctrl\n",
    "NC_exp = exp.Payments.sum()/GC_clicks_exp\n",
    "NC_diff = NC_exp-NC_ctrl\n",
    "NC_pooled = (ctrl.Payments.sum()+exp.Payments.sum())/(GC_clicks_ctrl+GC_clicks_exp)\n",
    "NC_std = np.sqrt(NC_pooled*(1-NC_pooled)*(1/GC_clicks_ctrl+1/GC_clicks_exp))\n",
    "stats_NC = NC_diff/NC_std\n",
    "p_NC = stats.norm.cdf(stats_NC) # stats_NC < 0\n",
    "p_NC"
   ]
  },
  {
   "cell_type": "code",
   "execution_count": 14,
   "metadata": {},
   "outputs": [
    {
     "data": {
      "text/plain": [
       "[-0.011604500677993734, 0.0018570553289053993]"
      ]
     },
     "execution_count": 14,
     "metadata": {},
     "output_type": "execute_result"
    }
   ],
   "source": [
    "CI_NC = [NC_diff-stats.norm.ppf(1-0.05/2)*NC_std, NC_diff+stats.norm.ppf(1-0.05/2)*NC_std]\n",
    "CI_NC"
   ]
  },
  {
   "cell_type": "code",
   "execution_count": 15,
   "metadata": {},
   "outputs": [
    {
     "data": {
      "image/png": "[encoded data removed]",
      "text/plain": [
       "<Figure size 432x288 with 1 Axes>"
      ]
     },
     "metadata": {},
     "output_type": "display_data"
    },
    {
     "data": {
      "image/png": "[encoded data removed]",
      "text/plain": [
       "<Figure size 432x288 with 1 Axes>"
      ]
     },
     "metadata": {},
     "output_type": "display_data"
    }
   ],
   "source": [
    "# Visualize Hypothesis Test\n",
    "def abplot(diff, std, alpha=0.05, title=None):\n",
    "    plt.style.use('ggplot')\n",
    "\n",
    "    fig, ax = plt.subplots()\n",
    "    x = np.linspace(-9*std, 9*std, 1000)\n",
    "    y1 = stats.norm(0, std).pdf(x)\n",
    "    y2 = stats.norm(diff, std).pdf(x)\n",
    "    \n",
    "    ax.plot(x, y1)\n",
    "    ax.plot(x, y2)\n",
    "    \n",
    "    z_score = stats.norm.ppf(1-alpha/2)\n",
    "    ax.axvline(-std*z_score, color='grey', linestyle='--', alpha=0.5)\n",
    "    ax.axvline(std*z_score, color='grey', linestyle='--', alpha=0.5)\n",
    "    ax.axvline(diff-std*z_score, color='grey', linestyle='--', alpha=0.5)\n",
    "    ax.axvline(diff+std*z_score, color='grey', linestyle='--', alpha=0.5)\n",
    "    \n",
    "    plt.xlabel('diff')\n",
    "    plt.ylabel('PDF')\n",
    "    if not title:\n",
    "        plt.title('Hypothesis Test')\n",
    "    else:\n",
    "        plt.title('Hypothesis Test('+title+')')\n",
    "    plt.show\n",
    "\n",
    "abplot(GC_diff, GC_std, title='Gross Conversion')\n",
    "abplot(NC_diff, NC_std, title='Net Conversion')"
   ]
  },
  {
   "cell_type": "code",
   "execution_count": 16,
   "metadata": {},
   "outputs": [],
   "source": [
    "# Sign Test\n",
    "ST = ctrl.merge(exp, left_index=True, right_index=True)\n",
    "ST = ST.loc[ST.Payments_x.notnull(),:]\n",
    "ST['GC'] = ST['Enrollments_y']/ST['Clicks_y'] > ST['Enrollments_x']/ST['Clicks_x']\n",
    "ST['NC'] = ST['Payments_y']/ST['Clicks_y'] > ST['Payments_x']/ST['Clicks_x']\n",
    "\n",
    "def sign_test(x, n):\n",
    "    def binomial(x, n):\n",
    "        return comb(n,x)*0.5**n\n",
    "    p = 0\n",
    "    for i in range(x+1):\n",
    "        p = p + binomial(i, n)\n",
    "    return p"
   ]
  },
  {
   "cell_type": "code",
   "execution_count": 17,
   "metadata": {},
   "outputs": [
    {
     "data": {
      "text/plain": [
       "0.002599477767944336"
      ]
     },
     "execution_count": 17,
     "metadata": {},
     "output_type": "execute_result"
    }
   ],
   "source": [
    "# Gross Conversion\n",
    "p_GC_ST = 2 * sign_test(ST['GC'].sum(), ST['GC'].count())\n",
    "p_GC_ST"
   ]
  },
  {
   "cell_type": "code",
   "execution_count": 18,
   "metadata": {},
   "outputs": [
    {
     "data": {
      "text/plain": [
       "0.6776394844055176"
      ]
     },
     "execution_count": 18,
     "metadata": {},
     "output_type": "execute_result"
    }
   ],
   "source": [
    "# Net Conversion\n",
    "p_NC_ST = 2 * sign_test(ST['NC'].sum(), ST['NC'].count())\n",
    "p_NC_ST"
   ]
  }
 ],
 "metadata": {
  "kernelspec": {
   "display_name": "Python 3",
   "language": "python",
   "name": "python3"
  },
  "language_info": {
   "codemirror_mode": {
    "name": "ipython",
    "version": 3
   },
   "file_extension": ".py",
   "mimetype": "text/x-python",
   "name": "python",
   "nbconvert_exporter": "python",
   "pygments_lexer": "ipython3",
   "version": "3.7.1"
  }
 },
 "nbformat": 4,
 "nbformat_minor": 2
}
